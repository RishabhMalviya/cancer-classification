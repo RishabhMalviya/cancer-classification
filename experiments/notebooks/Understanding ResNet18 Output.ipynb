{
 "cells": [
  {
   "cell_type": "code",
   "execution_count": 16,
   "id": "eeb84601-ba9f-43ef-b7ab-2c9dc7194613",
   "metadata": {},
   "outputs": [],
   "source": [
    "import torch\n",
    "import torch.nn as nn\n",
    "\n",
    "from torchvision.models import resnet18"
   ]
  },
  {
   "cell_type": "code",
   "execution_count": 2,
   "id": "b6aac55d-80f8-444e-ace7-ec445397eeb7",
   "metadata": {},
   "outputs": [],
   "source": [
    "loss = nn.CrossEntropyLoss()"
   ]
  },
  {
   "cell_type": "code",
   "execution_count": 5,
   "id": "2b7e5ba5-493b-4b26-b218-831126dd4c66",
   "metadata": {},
   "outputs": [],
   "source": [
    "input = torch.randn(3, 5, requires_grad=True)\n",
    "target = torch.empty(3, dtype=torch.long).random_(5)"
   ]
  },
  {
   "cell_type": "code",
   "execution_count": 4,
   "id": "29c3bd38-7461-46a3-b015-430ff16e90a0",
   "metadata": {},
   "outputs": [
    {
     "name": "stdout",
     "output_type": "stream",
     "text": [
      "tensor([[ 1.3457,  0.9627,  0.1693,  0.2497, -1.0094],\n",
      "        [ 0.5631, -0.8087,  0.0745, -0.3962, -1.1940],\n",
      "        [-0.2852, -0.1100, -0.6336, -0.3820,  2.9571]], requires_grad=True)\n"
     ]
    }
   ],
   "source": [
    "print(input)"
   ]
  },
  {
   "cell_type": "code",
   "execution_count": 6,
   "id": "bc9a2786-ac85-48f2-89e6-90409884e961",
   "metadata": {},
   "outputs": [
    {
     "name": "stdout",
     "output_type": "stream",
     "text": [
      "tensor([0, 3, 1])\n"
     ]
    }
   ],
   "source": [
    "print(target)"
   ]
  },
  {
   "cell_type": "markdown",
   "id": "b62c2e50-192a-41bc-af90-820e90d39624",
   "metadata": {},
   "source": [
    "## Testing Through ResNet18"
   ]
  },
  {
   "cell_type": "code",
   "execution_count": 35,
   "id": "95fe2ad8-2959-412a-8bd3-136e38371f11",
   "metadata": {},
   "outputs": [],
   "source": [
    "x = torch.randn(1, 3, 224, 224)\n",
    "y = torch.empty(1, dtype=torch.long).random_(9)"
   ]
  },
  {
   "cell_type": "code",
   "execution_count": 36,
   "id": "151966a9-691b-4d26-8e7e-b9745c3517da",
   "metadata": {},
   "outputs": [],
   "source": [
    "model = resnet18(pretrained=False)\n",
    "model.fc = nn.Linear(model.fc.in_features, 9)"
   ]
  },
  {
   "cell_type": "code",
   "execution_count": 37,
   "id": "d275eb5d-e9a4-4eba-a0e0-828ab2e93fce",
   "metadata": {},
   "outputs": [],
   "source": [
    "y_hat = model(x)"
   ]
  },
  {
   "cell_type": "code",
   "execution_count": 41,
   "id": "9c1adabe-6b32-47ed-8119-f4317f62b82e",
   "metadata": {},
   "outputs": [
    {
     "data": {
      "text/plain": [
       "tensor([[ 0.0378, -0.1334, -0.2855,  0.0388, -0.8222, -0.4199, -0.0096,  1.0483,\n",
       "          0.3617]], grad_fn=<AddmmBackward0>)"
      ]
     },
     "execution_count": 41,
     "metadata": {},
     "output_type": "execute_result"
    }
   ],
   "source": [
    "y_hat"
   ]
  },
  {
   "cell_type": "code",
   "execution_count": 42,
   "id": "46727ae9-d4e8-47e0-ad0a-06a0edb95c10",
   "metadata": {},
   "outputs": [
    {
     "data": {
      "text/plain": [
       "tensor([2])"
      ]
     },
     "execution_count": 42,
     "metadata": {},
     "output_type": "execute_result"
    }
   ],
   "source": [
    "y"
   ]
  },
  {
   "cell_type": "code",
   "execution_count": 40,
   "id": "c79acc74-82eb-42c9-bc58-a869486f51cb",
   "metadata": {},
   "outputs": [
    {
     "data": {
      "text/plain": [
       "tensor(2.5961, grad_fn=<NllLossBackward0>)"
      ]
     },
     "execution_count": 40,
     "metadata": {},
     "output_type": "execute_result"
    }
   ],
   "source": [
    "loss(y_hat, y)"
   ]
  },
  {
   "cell_type": "code",
   "execution_count": null,
   "id": "7340abe0-5ccb-40c9-93c2-a649594c376f",
   "metadata": {},
   "outputs": [],
   "source": []
  },
  {
   "cell_type": "code",
   "execution_count": null,
   "id": "c4a0d89e-68f1-4326-a29b-8c422176fd4e",
   "metadata": {},
   "outputs": [],
   "source": []
  },
  {
   "cell_type": "code",
   "execution_count": null,
   "id": "4b675a80-b66d-498e-b330-5b5f188c7b4c",
   "metadata": {},
   "outputs": [],
   "source": []
  }
 ],
 "metadata": {
  "kernelspec": {
   "display_name": "Python 3 (ipykernel)",
   "language": "python",
   "name": "python3"
  },
  "language_info": {
   "codemirror_mode": {
    "name": "ipython",
    "version": 3
   },
   "file_extension": ".py",
   "mimetype": "text/x-python",
   "name": "python",
   "nbconvert_exporter": "python",
   "pygments_lexer": "ipython3",
   "version": "3.12.9"
  }
 },
 "nbformat": 4,
 "nbformat_minor": 5
}
